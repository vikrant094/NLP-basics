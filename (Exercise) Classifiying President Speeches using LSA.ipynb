{
 "cells": [
  {
   "cell_type": "markdown",
   "metadata": {},
   "source": [
    "### Loaded are the text files of speeches given by US presidents over years.\n",
    "#### Your task is to classify which speech was given by whom (let's not worry about test/train split)m"
   ]
  },
  {
   "cell_type": "code",
   "execution_count": 66,
   "metadata": {},
   "outputs": [
    {
     "name": "stdout",
     "output_type": "stream",
     "text": [
      "Number of Speeches: 65\n",
      "['Truman', 'Truman', 'Truman', 'Truman', 'Truman', 'Truman', 'Truman', 'Eisenhower', 'Eisenhower', 'Eisenhower', 'Eisenhower', 'Eisenhower', 'Eisenhower', 'Eisenhower', 'Eisenhower', 'Kennedy', 'Kennedy', 'Johnson', 'Kennedy', 'Johnson', 'Johnson', 'Johnson', 'Johnson', 'Johnson', 'Johnson', 'Johnson', 'Nixon', 'Nixon', 'Nixon', 'Nixon', 'Nixon', 'Ford', 'Ford', 'Ford', 'Carter', 'Carter', 'Carter', 'Reagan', 'Reagan', 'Reagan', 'Reagan', 'Reagan', 'Reagan', 'Reagan', 'Reagan', 'Bush', 'Bush', 'Bush', 'Bush', 'Bush', 'Clinton', 'Clinton', 'Clinton', 'Clinton', 'Clinton', 'Clinton', 'Clinton', 'Clinton', 'GWBush', 'GWBush', 'GWBush', 'GWBush', 'GWBush', 'GWBush', 'GWBush']\n"
     ]
    }
   ],
   "source": [
    "from nltk.corpus import state_union\n",
    "\n",
    "_files_all_speechs = state_union.fileids()\n",
    "all_raw_speeches = []\n",
    "for _file_ in _files_all_speechs:\n",
    "    all_raw_speeches.append(state_union.raw(_file_))\n",
    "\n",
    "print('Number of Speeches:', len(all_raw_speeches))\n",
    "all_categories = [x.split('-')[1].split('.')[0] for x in _files_all_speechs]\n",
    "print(all_categories)"
   ]
  },
  {
   "cell_type": "markdown",
   "metadata": {},
   "source": [
    "#### Create a LSI model on the text and use the vectors as input for naive bayes or any other classification model. \n",
    "#### Also compute the accuracy of your model"
   ]
  },
  {
   "cell_type": "code",
   "execution_count": null,
   "metadata": {},
   "outputs": [],
   "source": []
  }
 ],
 "metadata": {
  "anaconda-cloud": {},
  "kernelspec": {
   "display_name": "Python [conda root]",
   "language": "python",
   "name": "conda-root-py"
  },
  "language_info": {
   "codemirror_mode": {
    "name": "ipython",
    "version": 3
   },
   "file_extension": ".py",
   "mimetype": "text/x-python",
   "name": "python",
   "nbconvert_exporter": "python",
   "pygments_lexer": "ipython3",
   "version": "3.5.2"
  }
 },
 "nbformat": 4,
 "nbformat_minor": 2
}
