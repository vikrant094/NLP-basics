{
 "cells": [
  {
   "cell_type": "code",
   "execution_count": 34,
   "metadata": {},
   "outputs": [],
   "source": [
    "from collections import defaultdict"
   ]
  },
  {
   "cell_type": "code",
   "execution_count": 35,
   "metadata": {},
   "outputs": [],
   "source": [
    "import operator\n",
    "def build_conditional_probabilities(corpus):\n",
    "    \"\"\"\n",
    "    The function takes as its input a corpus string (words separated by \n",
    "    spaces) and returns a 2D dictionnary of probabilities P(next|current) of\n",
    "    seeing a word \"next\" conditionnaly to seeing a word \"current\". \n",
    "    \"\"\"\n",
    "\n",
    "# First we parse the string to build a double dimension dictionnary that\n",
    "# returns the conditional probabilities.\n",
    "\n",
    "# We parse the string to build a first dictionnary indicating for each\n",
    "# word, what are the words that follow it in the string. Repeated next\n",
    "# words are kept so we use a list and not a set. \n",
    "\n",
    "    tokenized_string = corpus.split()\n",
    "    print(tokenized_string)\n",
    "    previous_word = \"\"\n",
    "    dictionnary = defaultdict(list)\n",
    "\n",
    "    for current_word in tokenized_string:\n",
    "        if previous_word != \"\":\n",
    "            dictionnary[previous_word].append(current_word)\n",
    "        previous_word = current_word\n",
    "    print(dictionnary)\n",
    "# We know parse dictionnary to compute the probability each observed\n",
    "# next word for each word in the dictionnary. \n",
    "\n",
    "    for key in dictionnary.keys():\n",
    "        next_words = dictionnary[key]\n",
    "        unique_words = set(next_words) # removes duplicated\n",
    "        nb_words = len(next_words)\n",
    "        probabilities_given_key = {}\n",
    "        for unique_word in unique_words:\n",
    "            probabilities_given_key[unique_word] =float(next_words.count(unique_word)) / nb_words\n",
    "            #dictionnary[key] = sorted(key.items(), key=operator.itemgetter(1))\n",
    "            dictionnary[key] = probabilities_given_key\n",
    "    return dictionnary\n"
   ]
  },
  {
   "cell_type": "code",
   "execution_count": 36,
   "metadata": {},
   "outputs": [],
   "source": [
    "\n",
    "def bigram_next_word_predictor(conditional_probabilities, current, next_candidate):\n",
    "    \"\"\"\n",
    "    The function takes as its input a 2D dictionnary of probabilities \n",
    "    P(next|current) of seeing a word \"next\" conditionnaly to seeing a word \n",
    "    \"current\", the current word being read, and a next candidate word, and\n",
    "    returns P(next_candidate|current).\n",
    "    \"\"\"\n",
    "\n",
    "# We look for the probability corresponding to the \n",
    "# current -> next_candidate pair\n",
    "\n",
    "    if conditional_probabilities[current]:\n",
    "        if conditional_probabilities[current][next_candidate]:\n",
    "            return conditional_probabilities[current][next_candidate]\n",
    "\n",
    "# If current -> next_candidate pair has not been observed in the corpus,\n",
    "# the corresponding dictionnary keys will not be defined. We return \n",
    "# a probability 0.0\n",
    "\n",
    "\n",
    "    return 0.0\n",
    "\n",
    "\n"
   ]
  },
  {
   "cell_type": "code",
   "execution_count": 50,
   "metadata": {},
   "outputs": [],
   "source": [
    "def bigram_next_word(conditional_probabilities, current):\n",
    "    \"\"\"\n",
    "    The function takes as its input a 2D dictionnary of probabilities \n",
    "    P(next|current) of seeing a word \"next\" conditionnaly to seeing a word \n",
    "    \"current\", the current word being read, and a next candidate word, and\n",
    "    returns P(next_candidate|current).\n",
    "    \"\"\"\n",
    "\n",
    "# We look for the probability corresponding to the \n",
    "# current -> next_candidate pair\n",
    "\n",
    "    if conditional_probabilities[current]:\n",
    "        #print(type)\n",
    "        return max(conditional_probabilities[current].items(), key=operator.itemgetter(1))[0]\n",
    "        #return conditional_probabilities[current]\n",
    "\n",
    "# If current -> next_candidate pair has not been observed in the corpus,\n",
    "# the corresponding dictionnary keys will not be defined. We return \n",
    "# a probability 0.0\n",
    "\n",
    "\n",
    "    return \"not avaialble\"\n",
    "\n"
   ]
  },
  {
   "cell_type": "code",
   "execution_count": 52,
   "metadata": {},
   "outputs": [
    {
     "name": "stdout",
     "output_type": "stream",
     "text": [
      "['Avul', 'Pakir', 'Jainulabdeen', 'Abdul', 'Kalam', 'better', 'known', 'as', 'A.', 'P.', 'J.', 'Abdul', 'Kalam', '(/ˈæbdʊl', 'kəˈlɑːm/', '(About', 'this', 'sound', 'listen);', '15', 'October', '1931', '–', '27', 'July', '2015),', 'was', 'the', '11th', 'President', 'of', 'India', 'from', '2002', 'to', '2007.', 'A', 'career', 'scientist', 'turned', 'statesman,', 'Kalam', 'was', 'born', 'and', 'raised', 'in', 'Rameswaram,', 'Tamil', 'Nadu,', 'and', 'studied', 'physics', 'and', 'aerospace', 'engineering.', 'He', 'spent', 'the', 'next', 'four', 'decades', 'as', 'a', 'scientist', 'and', 'science', 'administrator,', 'mainly', 'at', 'the', 'Defence', 'Research', 'and', 'Development', 'Organisation', '(DRDO)', 'and', 'Indian', 'Space', 'Research', 'Organisation', '(ISRO)', 'and', 'was', 'intimately', 'involved', 'in', \"India's\", 'civilian', 'space', 'programme', 'and', 'military', 'missile', 'development', 'efforts.[1]', 'He', 'thus', 'came', 'to', 'be', 'known', 'as', 'the', 'Missile', 'Man', 'of', 'India', 'for', 'his', 'work', 'on', 'the', 'development', 'of', 'ballistic', 'missile', 'and', 'launch', 'vehicle', 'technology.[2][3][4]', 'He', 'also', 'played', 'a', 'pivotal', 'organisational,', 'technical,', 'and', 'political', 'role', 'in', \"India's\", 'Pokhran-II', 'nuclear', 'tests', 'in', '1998,', 'the', 'first', 'since', 'the', 'original', 'nuclear', 'test', 'by', 'India', 'in', '1974.[5]', 'Kalam', 'was', 'elected', 'as', 'the', '11th', 'President', 'of', 'India', 'in', '2002', 'with', 'the', 'support', 'of', 'both', 'the', 'ruling', 'Bharatiya', 'Janata', 'Party', 'and', 'the', 'then-opposition', 'Indian', 'National', 'Congress.', 'Widely', 'referred', 'to', 'as', 'the', '\"People\\'s', 'President,\"[6]', 'he', 'returned', 'to', 'his', 'civilian', 'life', 'of', 'education,', 'writing', 'and', 'public', 'service', 'after', 'a', 'single', 'term.', 'He', 'was', 'a', 'recipient', 'of', 'several', 'prestigious', 'awards,', 'including', 'the', 'Bharat', 'Ratna,', \"India's\", 'highest', 'civilian', 'honour.', 'While', 'delivering', 'a', 'lecture', 'at', 'the', 'Indian', 'Institute', 'of', 'Management', 'Shillong,', 'Kalam', 'collapsed', 'and', 'died', 'from', 'an', 'apparent', 'cardiac', 'arrest', 'on', '27', 'July', '2015,', 'aged', '83.[7]', 'Thousands', 'including', 'national-level', 'dignitaries', 'attended', 'the', 'funeral', 'ceremony', 'held', 'in', 'his', 'hometown', 'of', 'Rameshwaram,', 'where', 'he', 'was', 'buried', 'with', 'full', 'state', 'honours.[8]']\n",
      "defaultdict(<class 'list'>, {'Avul': ['Pakir'], 'Pakir': ['Jainulabdeen'], 'Jainulabdeen': ['Abdul'], 'Abdul': ['Kalam', 'Kalam'], 'Kalam': ['better', '(/ˈæbdʊl', 'was', 'was', 'collapsed'], 'better': ['known'], 'known': ['as', 'as'], 'as': ['A.', 'a', 'the', 'the', 'the'], 'A.': ['P.'], 'P.': ['J.'], 'J.': ['Abdul'], '(/ˈæbdʊl': ['kəˈlɑːm/'], 'kəˈlɑːm/': ['(About'], '(About': ['this'], 'this': ['sound'], 'sound': ['listen);'], 'listen);': ['15'], '15': ['October'], 'October': ['1931'], '1931': ['–'], '–': ['27'], '27': ['July', 'July'], 'July': ['2015),', '2015,'], '2015),': ['was'], 'was': ['the', 'born', 'intimately', 'elected', 'a', 'buried'], 'the': ['11th', 'next', 'Defence', 'Missile', 'development', 'first', 'original', '11th', 'support', 'ruling', 'then-opposition', '\"People\\'s', 'Bharat', 'Indian', 'funeral'], '11th': ['President', 'President'], 'President': ['of', 'of'], 'of': ['India', 'India', 'ballistic', 'India', 'both', 'education,', 'several', 'Management', 'Rameshwaram,'], 'India': ['from', 'for', 'in', 'in'], 'from': ['2002', 'an'], '2002': ['to', 'with'], 'to': ['2007.', 'be', 'as', 'his'], '2007.': ['A'], 'A': ['career'], 'career': ['scientist'], 'scientist': ['turned', 'and'], 'turned': ['statesman,'], 'statesman,': ['Kalam'], 'born': ['and'], 'and': ['raised', 'studied', 'aerospace', 'science', 'Development', 'Indian', 'was', 'military', 'launch', 'political', 'the', 'public', 'died'], 'raised': ['in'], 'in': ['Rameswaram,', \"India's\", \"India's\", '1998,', '1974.[5]', '2002', 'his'], 'Rameswaram,': ['Tamil'], 'Tamil': ['Nadu,'], 'Nadu,': ['and'], 'studied': ['physics'], 'physics': ['and'], 'aerospace': ['engineering.'], 'engineering.': ['He'], 'He': ['spent', 'thus', 'also', 'was'], 'spent': ['the'], 'next': ['four'], 'four': ['decades'], 'decades': ['as'], 'a': ['scientist', 'pivotal', 'single', 'recipient', 'lecture'], 'science': ['administrator,'], 'administrator,': ['mainly'], 'mainly': ['at'], 'at': ['the', 'the'], 'Defence': ['Research'], 'Research': ['and', 'Organisation'], 'Development': ['Organisation'], 'Organisation': ['(DRDO)', '(ISRO)'], '(DRDO)': ['and'], 'Indian': ['Space', 'National', 'Institute'], 'Space': ['Research'], '(ISRO)': ['and'], 'intimately': ['involved'], 'involved': ['in'], \"India's\": ['civilian', 'Pokhran-II', 'highest'], 'civilian': ['space', 'life', 'honour.'], 'space': ['programme'], 'programme': ['and'], 'military': ['missile'], 'missile': ['development', 'and'], 'development': ['efforts.[1]', 'of'], 'efforts.[1]': ['He'], 'thus': ['came'], 'came': ['to'], 'be': ['known'], 'Missile': ['Man'], 'Man': ['of'], 'for': ['his'], 'his': ['work', 'civilian', 'hometown'], 'work': ['on'], 'on': ['the', '27'], 'ballistic': ['missile'], 'launch': ['vehicle'], 'vehicle': ['technology.[2][3][4]'], 'technology.[2][3][4]': ['He'], 'also': ['played'], 'played': ['a'], 'pivotal': ['organisational,'], 'organisational,': ['technical,'], 'technical,': ['and'], 'political': ['role'], 'role': ['in'], 'Pokhran-II': ['nuclear'], 'nuclear': ['tests', 'test'], 'tests': ['in'], '1998,': ['the'], 'first': ['since'], 'since': ['the'], 'original': ['nuclear'], 'test': ['by'], 'by': ['India'], '1974.[5]': ['Kalam'], 'elected': ['as'], 'with': ['the', 'full'], 'support': ['of'], 'both': ['the'], 'ruling': ['Bharatiya'], 'Bharatiya': ['Janata'], 'Janata': ['Party'], 'Party': ['and'], 'then-opposition': ['Indian'], 'National': ['Congress.'], 'Congress.': ['Widely'], 'Widely': ['referred'], 'referred': ['to'], '\"People\\'s': ['President,\"[6]'], 'President,\"[6]': ['he'], 'he': ['returned', 'was'], 'returned': ['to'], 'life': ['of'], 'education,': ['writing'], 'writing': ['and'], 'public': ['service'], 'service': ['after'], 'after': ['a'], 'single': ['term.'], 'term.': ['He'], 'recipient': ['of'], 'several': ['prestigious'], 'prestigious': ['awards,'], 'awards,': ['including'], 'including': ['the', 'national-level'], 'Bharat': ['Ratna,'], 'Ratna,': [\"India's\"], 'highest': ['civilian'], 'honour.': ['While'], 'While': ['delivering'], 'delivering': ['a'], 'lecture': ['at'], 'Institute': ['of'], 'Management': ['Shillong,'], 'Shillong,': ['Kalam'], 'collapsed': ['and'], 'died': ['from'], 'an': ['apparent'], 'apparent': ['cardiac'], 'cardiac': ['arrest'], 'arrest': ['on'], '2015,': ['aged'], 'aged': ['83.[7]'], '83.[7]': ['Thousands'], 'Thousands': ['including'], 'national-level': ['dignitaries'], 'dignitaries': ['attended'], 'attended': ['the'], 'funeral': ['ceremony'], 'ceremony': ['held'], 'held': ['in'], 'hometown': ['of'], 'Rameshwaram,': ['where'], 'where': ['he'], 'buried': ['with'], 'full': ['state'], 'state': ['honours.[8]']})\n"
     ]
    }
   ],
   "source": [
    "\n",
    "# An example corpus to try out the function\n",
    "corpus = '''Avul Pakir Jainulabdeen Abdul Kalam better known as A. P. J. Abdul Kalam (/ˈæbdʊl kəˈlɑːm/ (About this sound listen); 15 October 1931 – 27 July 2015), was the 11th President of India from 2002 to 2007. A career scientist turned statesman, Kalam was born and raised in Rameswaram, Tamil Nadu, and studied physics and aerospace engineering. He spent the next four decades as a scientist and science administrator, mainly at the Defence Research and Development Organisation (DRDO) and Indian Space Research Organisation (ISRO) and was intimately involved in India's civilian space programme and military missile development efforts.[1] He thus came to be known as the Missile Man of India for his work on the development of ballistic missile and launch vehicle technology.[2][3][4] He also played a pivotal organisational, technical, and political role in India's Pokhran-II nuclear tests in 1998, the first since the original nuclear test by India in 1974.[5]\n",
    "Kalam was elected as the 11th President of India in 2002 with the support of both the ruling Bharatiya Janata Party and the then-opposition Indian National Congress. Widely referred to as the \"People's President,\"[6] he returned to his civilian life of education, writing and public service after a single term. He was a recipient of several prestigious awards, including the Bharat Ratna, India's highest civilian honour. While delivering a lecture at the Indian Institute of Management Shillong, Kalam collapsed and died from an apparent cardiac arrest on 27 July 2015, aged 83.[7] Thousands including national-level dignitaries attended the funeral ceremony held in his hometown of Rameshwaram, where he was buried with full state honours.[8]'''\n",
    "# We call the conditional probability dictionnary builder function\n",
    "conditional_probabilities = build_conditional_probabilities(corpus)"
   ]
  },
  {
   "cell_type": "code",
   "execution_count": 39,
   "metadata": {},
   "outputs": [
    {
     "name": "stdout",
     "output_type": "stream",
     "text": [
      "0.75\n",
      "0.25\n",
      "0.0\n"
     ]
    }
   ],
   "source": [
    "\n",
    "\n",
    "# Some sample queries to the bigram predictor\n",
    "print(bigram_next_word_predictor(conditional_probabilities, \"the\", \"cat\")) \n",
    "print(bigram_next_word_predictor(conditional_probabilities, \"is\", \"red\")) \n",
    "print(bigram_next_word_predictor(conditional_probabilities, \"\", \"red\")) \n",
    " \n",
    "\n",
    "\n"
   ]
  },
  {
   "cell_type": "code",
   "execution_count": 70,
   "metadata": {},
   "outputs": [
    {
     "name": "stdout",
     "output_type": "stream",
     "text": [
      "life\n"
     ]
    }
   ],
   "source": [
    "print(bigram_next_word(conditional_probabilities, \"civilian\"))"
   ]
  },
  {
   "cell_type": "code",
   "execution_count": null,
   "metadata": {},
   "outputs": [],
   "source": []
  },
  {
   "cell_type": "code",
   "execution_count": null,
   "metadata": {},
   "outputs": [],
   "source": []
  }
 ],
 "metadata": {
  "kernelspec": {
   "display_name": "Python [conda env:ML]",
   "language": "python",
   "name": "conda-env-ML-py"
  },
  "language_info": {
   "codemirror_mode": {
    "name": "ipython",
    "version": 3
   },
   "file_extension": ".py",
   "mimetype": "text/x-python",
   "name": "python",
   "nbconvert_exporter": "python",
   "pygments_lexer": "ipython3",
   "version": "3.6.1"
  }
 },
 "nbformat": 4,
 "nbformat_minor": 2
}
