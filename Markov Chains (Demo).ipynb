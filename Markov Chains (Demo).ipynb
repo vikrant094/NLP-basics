{
 "cells": [
  {
   "cell_type": "markdown",
   "metadata": {},
   "source": [
    "## Markov Chains (Demo)\n",
    "In this demo we shall build a language model using markov chains"
   ]
  },
  {
   "cell_type": "code",
   "execution_count": null,
   "metadata": {
    "collapsed": true
   },
   "outputs": [],
   "source": [
    "import markovify"
   ]
  },
  {
   "cell_type": "markdown",
   "metadata": {},
   "source": [
    "### This means, the module is not available in our python installation. Let's install it below"
   ]
  },
  {
   "cell_type": "code",
   "execution_count": null,
   "metadata": {
    "collapsed": true
   },
   "outputs": [],
   "source": [
    "!pip install markovify"
   ]
  },
  {
   "cell_type": "code",
   "execution_count": null,
   "metadata": {
    "collapsed": true
   },
   "outputs": [],
   "source": [
    "import markovify"
   ]
  },
  {
   "cell_type": "markdown",
   "metadata": {},
   "source": [
    "Now that we have markovify let's create a simple language model which can talk medicine, or sports"
   ]
  },
  {
   "cell_type": "code",
   "execution_count": null,
   "metadata": {
    "collapsed": true
   },
   "outputs": [],
   "source": [
    "with open(\"activity_data/train_medicine.txt\") as f:\n",
    "    text = f.read()\n",
    "\n",
    "# Build the markov model.\n",
    "text_model = markovify.Text(text, state_size=2)\n",
    "for i in range(3):\n",
    "    print(text_model.make_short_sentence(140))\n"
   ]
  },
  {
   "cell_type": "code",
   "execution_count": null,
   "metadata": {
    "collapsed": true
   },
   "outputs": [],
   "source": [
    "with open(\"activity_data/train_sports.txt\") as f:\n",
    "    text = f.read()\n",
    "\n",
    "text_model = markovify.Text(text)\n",
    "\n",
    "## Generate 10 sentences and join them by a space\n",
    "' '.join(text_model.make_sentence() for _ in range(10))"
   ]
  },
  {
   "cell_type": "markdown",
   "metadata": {},
   "source": [
    "#### Inspecting the markov model chain"
   ]
  },
  {
   "cell_type": "code",
   "execution_count": null,
   "metadata": {
    "collapsed": true
   },
   "outputs": [],
   "source": [
    "text_model.to_dict()['chain'][:232]"
   ]
  },
  {
   "cell_type": "markdown",
   "metadata": {},
   "source": [
    "The `text_model` is a markov model which has information about state transitions. Here state is going to be a collection of words. For example if a sentence starts with the word `the`, then there exisits a state `['__BEGIN__', 'the']` which then transitions to whatever word (e.g., `'boy'`) is followed. Based on the frequency of how many times this transition occurs we have a number in the corresponding row `['__BEGIN__', 'the']` and column `'boy'` of the state transition matrix"
   ]
  },
  {
   "cell_type": "code",
   "execution_count": null,
   "metadata": {
    "collapsed": true
   },
   "outputs": [],
   "source": []
  }
 ],
 "metadata": {
  "anaconda-cloud": {},
  "kernelspec": {
   "display_name": "Python 3",
   "language": "python",
   "name": "python3"
  },
  "language_info": {
   "codemirror_mode": {
    "name": "ipython",
    "version": 3
   },
   "file_extension": ".py",
   "mimetype": "text/x-python",
   "name": "python",
   "nbconvert_exporter": "python",
   "pygments_lexer": "ipython3",
   "version": "3.6.1"
  }
 },
 "nbformat": 4,
 "nbformat_minor": 2
}
