{
 "cells": [
  {
   "cell_type": "code",
   "execution_count": 2,
   "metadata": {},
   "outputs": [
    {
     "name": "stdout",
     "output_type": "stream",
     "text": [
      "[Synset('brand.n.02'), Synset('shuffle.n.01'), Synset('make.v.01'), Synset('make.v.02'), Synset('make.v.03'), Synset('induce.v.02'), Synset('cause.v.01'), Synset('produce.v.02'), Synset('draw.v.04'), Synset('make.v.08'), Synset('create.v.05'), Synset('gain.v.08'), Synset('do.v.08'), Synset('form.v.02'), Synset('reach.v.07'), Synset('make.v.14'), Synset('make.v.15'), Synset('make.v.16'), Synset('construct.v.01'), Synset('make.v.18'), Synset('make.v.19'), Synset('name.v.03'), Synset('have.v.17'), Synset('reach.v.01'), Synset('lay_down.v.01'), Synset('make.v.24'), Synset('make.v.25'), Synset('hold.v.03'), Synset('make.v.27'), Synset('take.v.27'), Synset('stool.v.04'), Synset('make.v.30'), Synset('make.v.31'), Synset('make.v.32'), Synset('make.v.33'), Synset('make.v.34'), Synset('make.v.35'), Synset('make.v.36'), Synset('make.v.37'), Synset('make.v.38'), Synset('cook.v.02'), Synset('seduce.v.01'), Synset('make.v.41'), Synset('make.v.42'), Synset('make.v.43'), Synset('make.v.44'), Synset('make.v.45'), Synset('make.v.46'), Synset('make.v.47'), Synset('make.v.48'), Synset('make.v.49')]\n"
     ]
    }
   ],
   "source": [
    "from nltk.corpus import wordnet\n",
    "\n",
    "syns = wordnet.synsets(\"make\")\n",
    "\n",
    "print(syns)"
   ]
  },
  {
   "cell_type": "code",
   "execution_count": 4,
   "metadata": {
    "collapsed": true
   },
   "outputs": [
    {
     "name": "stdout",
     "output_type": "stream",
     "text": [
      "Synset('brand.n.02') -- a recognizable kind\n",
      "Synset('shuffle.n.01') -- the act of mixing cards haphazardly\n",
      "Synset('make.v.01') -- engage in\n",
      "Synset('make.v.02') -- give certain properties to something\n",
      "Synset('make.v.03') -- make or cause to be or to become\n",
      "Synset('induce.v.02') -- cause to do; cause to act in a specified manner\n",
      "Synset('cause.v.01') -- give rise to; cause to happen or occur, not always intentionally\n",
      "Synset('produce.v.02') -- create or manufacture a man-made product\n",
      "Synset('draw.v.04') -- make, formulate, or derive in the mind\n",
      "Synset('make.v.08') -- compel or make somebody or something to act in a certain way\n",
      "Synset('create.v.05') -- create by artistic means\n",
      "Synset('gain.v.08') -- earn on some commercial or business transaction; earn as salary or wages\n",
      "Synset('do.v.08') -- create or design, often in a certain way\n",
      "Synset('form.v.02') -- to compose or represent:\"This wall forms the background of the stage setting\"\n",
      "Synset('reach.v.07') -- reach a goal, e.g., \"make the first team\"\n",
      "Synset('make.v.14') -- be or be capable of being changed or made into\n",
      "Synset('make.v.15') -- make by shaping or bringing together constituents\n",
      "Synset('make.v.16') -- perform or carry out\n",
      "Synset('construct.v.01') -- make by combining materials and parts\n",
      "Synset('make.v.18') -- change from one form into another\n",
      "Synset('make.v.19') -- act in a certain way so as to acquire\n",
      "Synset('name.v.03') -- charge with a function; charge to be\n",
      "Synset('have.v.17') -- achieve a point or goal\n",
      "Synset('reach.v.01') -- reach a destination, either real or abstract\n",
      "Synset('lay_down.v.01') -- institute, enact, or establish\n",
      "Synset('make.v.24') -- carry out or commit\n",
      "Synset('make.v.25') -- form by assembling individuals or constituents\n",
      "Synset('hold.v.03') -- organize or be responsible for\n",
      "Synset('make.v.27') -- put in order or neaten\n",
      "Synset('take.v.27') -- head into a specified direction\n",
      "Synset('stool.v.04') -- have a bowel movement\n",
      "Synset('make.v.30') -- undergo fabrication or creation\n",
      "Synset('make.v.31') -- be suitable for\n",
      "Synset('make.v.32') -- add up to\n",
      "Synset('make.v.33') -- amount to\n",
      "Synset('make.v.34') -- constitute the essence of\n",
      "Synset('make.v.35') -- appear to begin an activity\n",
      "Synset('make.v.36') -- proceed along a path\n",
      "Synset('make.v.37') -- reach in time\n",
      "Synset('make.v.38') -- gather and light the materials for\n",
      "Synset('cook.v.02') -- prepare for eating by applying heat\n",
      "Synset('seduce.v.01') -- induce to have sex\n",
      "Synset('make.v.41') -- assure the success of\n",
      "Synset('make.v.42') -- represent fictitiously, as in a play, or pretend to be or act like\n",
      "Synset('make.v.43') -- consider as being\n",
      "Synset('make.v.44') -- calculate as being\n",
      "Synset('make.v.45') -- cause to be enjoyable or pleasurable\n",
      "Synset('make.v.46') -- favor the development of\n",
      "Synset('make.v.47') -- develop into\n",
      "Synset('make.v.48') -- behave in a certain way\n",
      "Synset('make.v.49') -- eliminate urine\n"
     ]
    }
   ],
   "source": [
    "for i in syns:\n",
    "    print(i, '--', i.definition())"
   ]
  },
  {
   "cell_type": "code",
   "execution_count": 5,
   "metadata": {},
   "outputs": [
    {
     "name": "stdout",
     "output_type": "stream",
     "text": [
      "0.9090909090909091\n"
     ]
    }
   ],
   "source": [
    "w1 = wordnet.synset('ship.n.01')\n",
    "w2 = wordnet.synset('boat.n.01')\n",
    "print(w1.wup_similarity(w2))"
   ]
  },
  {
   "cell_type": "code",
   "execution_count": 55,
   "metadata": {},
   "outputs": [
    {
     "name": "stdout",
     "output_type": "stream",
     "text": [
      "be --> Synset('be.v.01') --> have the quality of being; (copula, used with an adjective or a predicate noun)\n",
      "so --> Synset('so.r.01') --> to a very great extent or degree\n",
      "possibility --> Synset('possibility.n.01') --> a future prospect or potential\n",
      "explore --> Synset('research.v.02') --> inquire into\n",
      "text --> Synset('text.n.01') --> the words of something written\n",
      "mining --> Synset('mining.n.01') --> the act of extracting ores or coal etc from the earth\n"
     ]
    }
   ],
   "source": [
    "from nltk import pos_tag\n",
    "from nltk.stem import WordNetLemmatizer\n",
    "wordnet_lemmatizer = WordNetLemmatizer()\n",
    "\n",
    "\n",
    "posTags = pos_tag('There are so many possibilities to explore in text mining'.split())\n",
    "\n",
    "for word, tag in posTags:\n",
    "    try:\n",
    "        word_ = wordnet_lemmatizer.lemmatize(word, pos=tag.lower()[0])\n",
    "        word_sense = wordnet.synset('{}.{}.01'.format(word_, tag.lower()[0]))\n",
    "        \n",
    "        print(word_, '-->', word_sense, '-->', word_sense.definition())\n",
    "    except:\n",
    "        pass\n"
   ]
  },
  {
   "cell_type": "code",
   "execution_count": null,
   "metadata": {
    "collapsed": true
   },
   "outputs": [],
   "source": []
  }
 ],
 "metadata": {
  "anaconda-cloud": {},
  "kernelspec": {
   "display_name": "Python 3",
   "language": "python",
   "name": "python3"
  },
  "language_info": {
   "codemirror_mode": {
    "name": "ipython",
    "version": 3
   },
   "file_extension": ".py",
   "mimetype": "text/x-python",
   "name": "python",
   "nbconvert_exporter": "python",
   "pygments_lexer": "ipython3",
   "version": "3.6.1"
  }
 },
 "nbformat": 4,
 "nbformat_minor": 2
}
