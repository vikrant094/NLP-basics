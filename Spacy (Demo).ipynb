{
 "cells": [
  {
   "cell_type": "markdown",
   "metadata": {},
   "source": [
    "### Spacy Module\n",
    "Spacy is another text mining module, like nltk. It has similar capabilites as nltk, as shown below. There are some extra functionalities for spacy such as sentence parsing and many more. The syntax is also quite simple"
   ]
  },
  {
   "cell_type": "code",
   "execution_count": 5,
   "metadata": {
    "collapsed": true
   },
   "outputs": [],
   "source": [
    "import spacy\n",
    "nlp = spacy.load('en') #loading the language module. "
   ]
  },
  {
   "cell_type": "code",
   "execution_count": 15,
   "metadata": {
    "collapsed": true
   },
   "outputs": [],
   "source": [
    "TEXT = '''Avul Pakir Jainulabdeen Abdul Kalam better known as A. P. J. Abdul Kalam (/ˈæbdʊl kəˈlɑːm/ (About this sound listen); 15 October 1931 – 27 July 2015), was the 11th President of India from 2002 to 2007. A career scientist turned statesman, Kalam was born and raised in Rameswaram, Tamil Nadu, and studied physics and aerospace engineering. \n",
    "He spent the next four decades as a scientist and science administrator, mainly at the Defence Research and Development Organisation (DRDO) and Indian Space Research Organisation (ISRO) and was intimately involved in India's civilian space programme and military missile development efforts. \n",
    "He thus came to be known as the Missile Man of India for his work on the development of ballistic missile and launch vehicle technology. \n",
    "He also played a pivotal organisational, technical, and political role in India's Pokhran-II nuclear tests in 1998, the first since the original nuclear test by India in 1974.'''"
   ]
  },
  {
   "cell_type": "code",
   "execution_count": 47,
   "metadata": {
    "collapsed": true
   },
   "outputs": [],
   "source": [
    "doc = nlp(TEXT) #this applies all the common functions that we have studied so far."
   ]
  },
  {
   "cell_type": "markdown",
   "metadata": {},
   "source": [
    "#### Word tokenizing"
   ]
  },
  {
   "cell_type": "code",
   "execution_count": 48,
   "metadata": {},
   "outputs": [
    {
     "name": "stdout",
     "output_type": "stream",
     "text": [
      "[Avul, Pakir, Jainulabdeen, Abdul, Kalam, better, known, as, A., P., J., Abdul, Kalam, (, /ˈæbdʊl, kəˈlɑːm/, (, About, this, sound, listen, ), ;, 15, October, 1931, –, 27, July, 2015, ), ,, was, the, 11th, President, of, India, from, 2002, to, 2007, ., A, career, scientist, turned, statesman, ,, Kalam, was, born, and, raised, in, Rameswaram, ,, Tamil, Nadu, ,, and, studied, physics, and, aerospace, engineering, ., \n",
      ", He, spent, the, next, four, decades, as, a, scientist, and, science, administrator, ,, mainly, at, the, Defence, Research, and, Development, Organisation, (, DRDO, ), and, Indian, Space, Research, Organisation, (, ISRO, ), and, was, intimately, involved, in, India, 's, civilian, space, programme, and, military, missile, development, efforts, ., \n",
      ", He, thus, came, to, be, known, as, the, Missile, Man, of, India, for, his, work, on, the, development, of, ballistic, missile, and, launch, vehicle, technology, ., \n",
      ", He, also, played, a, pivotal, organisational, ,, technical, ,, and, political, role, in, India, 's, Pokhran, -, II, nuclear, tests, in, 1998, ,, the, first, since, the, original, nuclear, test, by, India, in, 1974, .]\n"
     ]
    }
   ],
   "source": [
    "print([x for x in doc]) ## Word Tokenizing"
   ]
  },
  {
   "cell_type": "markdown",
   "metadata": {},
   "source": [
    "#### Sentence Tokenizing"
   ]
  },
  {
   "cell_type": "code",
   "execution_count": 49,
   "metadata": {},
   "outputs": [
    {
     "name": "stdout",
     "output_type": "stream",
     "text": [
      "[Avul Pakir Jainulabdeen Abdul Kalam better known as A. P. J. Abdul Kalam (/ˈæbdʊl kəˈlɑːm/, (About this sound listen); 15 October 1931 – 27 July 2015), was the 11th President of India from 2002 to 2007., A career scientist turned statesman, Kalam was born and raised in Rameswaram, Tamil Nadu, and studied physics and aerospace engineering. \n",
      ", He spent the next four decades as a scientist and science administrator, mainly at the Defence Research and Development Organisation (DRDO) and Indian Space Research Organisation (ISRO) and was intimately involved in India's civilian space programme and military missile development efforts. \n",
      ", He thus came to be known as the Missile Man of India for his work on the development of ballistic missile and launch vehicle technology. \n",
      ", He also played a pivotal organisational, technical, and political role in India's Pokhran-II nuclear tests in 1998, the first since the original nuclear test by India in 1974.]\n"
     ]
    }
   ],
   "source": [
    "print([x for x in doc.sents]) ## Sentence tokenizing"
   ]
  },
  {
   "cell_type": "markdown",
   "metadata": {},
   "source": [
    "#### POS Tagging"
   ]
  },
  {
   "cell_type": "code",
   "execution_count": 50,
   "metadata": {},
   "outputs": [
    {
     "name": "stdout",
     "output_type": "stream",
     "text": [
      "[(Avul, 'NNP'), (Pakir, 'NNP'), (Jainulabdeen, 'NNP'), (Abdul, 'NNP'), (Kalam, 'NNP'), (better, 'RBR'), (known, 'VBN'), (as, 'IN'), (A., 'NNP'), (P., 'NNP'), (J., 'NNP'), (Abdul, 'NNP'), (Kalam, 'NNP'), ((, '-LRB-'), (/ˈæbdʊl, 'NFP'), (kəˈlɑːm/, 'NNP'), ((, '-LRB-'), (About, 'RB'), (this, 'DT'), (sound, 'JJ'), (listen, 'NN'), (), '-RRB-'), (;, ':'), (15, 'CD'), (October, 'NNP'), (1931, 'CD'), (–, 'SYM'), (27, 'CD'), (July, 'NNP'), (2015, 'CD'), (), '-RRB-'), (,, ','), (was, 'VBD'), (the, 'DT'), (11th, 'JJ'), (President, 'NNP'), (of, 'IN'), (India, 'NNP'), (from, 'IN'), (2002, 'CD'), (to, 'IN'), (2007, 'CD'), (., '.'), (A, 'DT'), (career, 'NN'), (scientist, 'NN'), (turned, 'VBD'), (statesman, 'NN'), (,, ','), (Kalam, 'NNP'), (was, 'VBD'), (born, 'VBN'), (and, 'CC'), (raised, 'VBN'), (in, 'IN'), (Rameswaram, 'NNP'), (,, ','), (Tamil, 'NNP'), (Nadu, 'NNP'), (,, ','), (and, 'CC'), (studied, 'VBD'), (physics, 'NN'), (and, 'CC'), (aerospace, 'NN'), (engineering, 'NN'), (., '.'), (\n",
      ", ''), (He, 'PRP'), (spent, 'VBD'), (the, 'DT'), (next, 'JJ'), (four, 'CD'), (decades, 'NNS'), (as, 'IN'), (a, 'DT'), (scientist, 'NN'), (and, 'CC'), (science, 'NN'), (administrator, 'NN'), (,, ','), (mainly, 'RB'), (at, 'IN'), (the, 'DT'), (Defence, 'NNP'), (Research, 'NNP'), (and, 'CC'), (Development, 'NNP'), (Organisation, 'NNP'), ((, '-LRB-'), (DRDO, 'NNP'), (), '-RRB-'), (and, 'CC'), (Indian, 'NNP'), (Space, 'NNP'), (Research, 'NNP'), (Organisation, 'NNP'), ((, '-LRB-'), (ISRO, 'NNP'), (), '-RRB-'), (and, 'CC'), (was, 'VBD'), (intimately, 'RB'), (involved, 'VBN'), (in, 'IN'), (India, 'NNP'), ('s, 'POS'), (civilian, 'JJ'), (space, 'NN'), (programme, 'NN'), (and, 'CC'), (military, 'JJ'), (missile, 'NN'), (development, 'NN'), (efforts, 'NNS'), (., '.'), (\n",
      ", ''), (He, 'PRP'), (thus, 'RB'), (came, 'VBD'), (to, 'TO'), (be, 'VB'), (known, 'VBN'), (as, 'IN'), (the, 'DT'), (Missile, 'NNP'), (Man, 'NNP'), (of, 'IN'), (India, 'NNP'), (for, 'IN'), (his, 'PRP$'), (work, 'NN'), (on, 'IN'), (the, 'DT'), (development, 'NN'), (of, 'IN'), (ballistic, 'JJ'), (missile, 'NN'), (and, 'CC'), (launch, 'NN'), (vehicle, 'NN'), (technology, 'NN'), (., '.'), (\n",
      ", ''), (He, 'PRP'), (also, 'RB'), (played, 'VBD'), (a, 'DT'), (pivotal, 'JJ'), (organisational, 'JJ'), (,, ','), (technical, 'JJ'), (,, ','), (and, 'CC'), (political, 'JJ'), (role, 'NN'), (in, 'IN'), (India, 'NNP'), ('s, 'POS'), (Pokhran, 'NNP'), (-, 'HYPH'), (II, 'NNP'), (nuclear, 'JJ'), (tests, 'NNS'), (in, 'IN'), (1998, 'CD'), (,, ','), (the, 'DT'), (first, 'JJ'), (since, 'IN'), (the, 'DT'), (original, 'JJ'), (nuclear, 'JJ'), (test, 'NN'), (by, 'IN'), (India, 'NNP'), (in, 'IN'), (1974, 'CD'), (., '.')]\n"
     ]
    }
   ],
   "source": [
    "print([(x, x.tag_) for x in doc]) ## POS Tagging"
   ]
  },
  {
   "cell_type": "markdown",
   "metadata": {},
   "source": [
    "#### Named Entities"
   ]
  },
  {
   "cell_type": "code",
   "execution_count": 51,
   "metadata": {},
   "outputs": [
    {
     "name": "stdout",
     "output_type": "stream",
     "text": [
      "Pakir Jainulabdeen Abdul Kalam --- PERSON\n",
      "A. P. J. Abdul Kalam ( --- PERSON\n",
      "15 October 1931 – 27 July 2015 --- DATE\n",
      "11th --- ORDINAL\n",
      "India --- GPE\n",
      "2002 to 2007 --- DATE\n",
      "Kalam --- ORG\n",
      "Rameswaram --- GPE\n",
      "Tamil Nadu --- PERSON\n",
      "\n",
      " --- GPE\n",
      "the next four decades --- DATE\n",
      "the Defence Research and Development Organisation (DRDO --- ORG\n",
      "Indian Space Research Organisation --- ORG\n",
      "ISRO --- ORG\n",
      "India --- GPE\n",
      "\n",
      " --- GPE\n",
      "India --- GPE\n",
      "\n",
      " --- GPE\n",
      "India --- GPE\n",
      "Pokhran-II --- EVENT\n",
      "1998 --- DATE\n",
      "first --- ORDINAL\n",
      "India --- GPE\n",
      "1974 --- DATE\n"
     ]
    }
   ],
   "source": [
    "for x in doc.ents:\n",
    "    print(x,'---', x.label_)\n"
   ]
  },
  {
   "cell_type": "markdown",
   "metadata": {},
   "source": [
    "Spacy can also be used to parse grammer and extract relations between different phrases."
   ]
  },
  {
   "cell_type": "code",
   "execution_count": 52,
   "metadata": {
    "collapsed": true
   },
   "outputs": [],
   "source": [
    "TEXTS = [\n",
    "    'Net income was $9.4 million compared to the prior year of $2.7 million.',\n",
    "    'Revenue exceeded twelve billion dollars, with a loss of $1b.',\n",
    "    'The amount robbed from the bank was 10$'\n",
    "]"
   ]
  },
  {
   "cell_type": "code",
   "execution_count": 53,
   "metadata": {
    "collapsed": true
   },
   "outputs": [],
   "source": [
    "def extract_currency_relations(doc):\n",
    "    # merge entities and noun chunks into one token\n",
    "    spans = list(doc.ents) + list(doc.noun_chunks)\n",
    "    for span in spans:\n",
    "        span.merge()\n",
    "\n",
    "    relations = []\n",
    "    for money in filter(lambda w: w.ent_type_ == 'MONEY', doc):\n",
    "        if money.dep_ in ('attr', 'dobj'):\n",
    "            subject = [w for w in money.head.lefts if w.dep_ == 'nsubj']\n",
    "            if subject:\n",
    "                subject = subject[0]\n",
    "                relations.append((subject, money))\n",
    "        elif money.dep_ == 'pobj' and money.head.dep_ == 'prep':\n",
    "            relations.append((money.head.head, money))\n",
    "    return relations"
   ]
  },
  {
   "cell_type": "code",
   "execution_count": 54,
   "metadata": {},
   "outputs": [
    {
     "name": "stdout",
     "output_type": "stream",
     "text": [
      "Processing 3 texts\n",
      "Net income\tMONEY\t$9.4 million\n",
      "the prior year\tMONEY\t$2.7 million\n",
      "Revenue   \tMONEY\ttwelve billion dollars\n",
      "a loss    \tMONEY\t1b\n",
      "The amount\tMONEY\t10$\n"
     ]
    }
   ],
   "source": [
    "print(\"Processing %d texts\" % len(TEXTS))\n",
    "\n",
    "for text in TEXTS:\n",
    "    doc = nlp(text)\n",
    "    relations = extract_currency_relations(doc)\n",
    "    for r1, r2 in relations:\n",
    "        print('{:<10}\\t{}\\t{}'.format(r1.text, r2.ent_type_, r2.text))"
   ]
  },
  {
   "cell_type": "code",
   "execution_count": null,
   "metadata": {
    "collapsed": true
   },
   "outputs": [],
   "source": []
  }
 ],
 "metadata": {
  "anaconda-cloud": {},
  "kernelspec": {
   "display_name": "Python 3",
   "language": "python",
   "name": "python3"
  },
  "language_info": {
   "codemirror_mode": {
    "name": "ipython",
    "version": 3
   },
   "file_extension": ".py",
   "mimetype": "text/x-python",
   "name": "python",
   "nbconvert_exporter": "python",
   "pygments_lexer": "ipython3",
   "version": "3.6.1"
  },
  "varInspector": {
   "cols": {
    "lenName": 16,
    "lenType": 16,
    "lenVar": 40
   },
   "kernels_config": {
    "python": {
     "delete_cmd_postfix": "",
     "delete_cmd_prefix": "del ",
     "library": "var_list.py",
     "varRefreshCmd": "print(var_dic_list())"
    },
    "r": {
     "delete_cmd_postfix": ") ",
     "delete_cmd_prefix": "rm(",
     "library": "var_list.r",
     "varRefreshCmd": "cat(var_dic_list()) "
    }
   },
   "types_to_exclude": [
    "module",
    "function",
    "builtin_function_or_method",
    "instance",
    "_Feature"
   ],
   "window_display": false
  }
 },
 "nbformat": 4,
 "nbformat_minor": 2
}
